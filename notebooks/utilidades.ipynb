{
  "nbformat": 4,
  "nbformat_minor": 0,
  "metadata": {
    "colab": {
      "provenance": []
    },
    "kernelspec": {
      "name": "python3",
      "display_name": "Python 3"
    },
    "language_info": {
      "name": "python"
    }
  },
  "cells": [
    {
      "cell_type": "code",
      "execution_count": null,
      "metadata": {
        "id": "qC27SFN0U7s1"
      },
      "outputs": [],
      "source": [
        "def rangointercuartil(df):\n",
        "    Q1 = df.quantile(0.25)\n",
        "    Q3 = df.quantile(0.75)\n",
        "    IQR = Q3-Q1\n",
        "    return IQR\n",
        "\n",
        "def limites(df):\n",
        "    Q1 = df.quantile(0.25)\n",
        "    Q3 = df.quantile(0.75)\n",
        "    IQR = Q3-Q1\n",
        "    limite_inferior = Q1 - (1.5*IQR)\n",
        "    limite_superior = Q3 + (1.5*IQR)\n",
        "    return limite_inferior, limite_superior\n",
        "\n",
        "def detectar_outliers(df, columna):\n",
        "    # Obtener los límites inferior y superior\n",
        "    limite_inferior, limite_superior = limites(df[columna])\n",
        "\n",
        "    # Encontrar los outliers\n",
        "    outliers = df[(df[columna] < limite_inferior) | (df[columna] > limite_superior)]\n",
        "\n",
        "    return outliers\n",
        "\n"
      ]
    },
    {
      "cell_type": "code",
      "source": [
        "\n",
        "def calcular_cuantiles(df):\n",
        "\n",
        "    cuantiles = df.quantile(q=[0.75, 0.50, 0.25], numeric_only=True)\n",
        "    cuantiles = cuantiles.transpose().rename_axis('Variable').reset_index()\n",
        "\n",
        "    cuantiles['IQR'] = cuantiles[0.75] - cuantiles[0.25]\n",
        "\n",
        "    cuantiles['Limite inferior'] = cuantiles[0.25] - 1.5 * cuantiles['IQR']\n",
        "    cuantiles['Limite superior'] = cuantiles[0.75] + 1.5 * cuantiles['IQR']\n",
        "\n",
        "    return cuantiles\n"
      ],
      "metadata": {
        "id": "d2v3nbtCcBHU"
      },
      "execution_count": null,
      "outputs": []
    },
    {
      "cell_type": "code",
      "source": [
        "# Scatter and density plots\n",
        "def plotScatterMatrix(df, plotSize, textSize):\n",
        "    df = df.select_dtypes(include =[np.number]) # keep only numerical columns\n",
        "    # Remove rows and columns that would lead to df being singular\n",
        "    df = df.dropna('columns')\n",
        "    df = df[[col for col in df if df[col].nunique() > 1]] # keep columns where there are more than 1 unique values\n",
        "    columnNames = list(df)\n",
        "    if len(columnNames) > 10: # reduce the number of columns for matrix inversion of kernel density plots\n",
        "        columnNames = columnNames[:10]\n",
        "    df = df[columnNames]\n",
        "    ax = pd.plotting.scatter_matrix(df, alpha=0.75, figsize=[plotSize, plotSize], diagonal='kde')\n",
        "    corrs = df.corr().values\n",
        "    for i, j in zip(*plt.np.triu_indices_from(ax, k = 1)):\n",
        "        ax[i, j].annotate('Corr. coef = %.3f' % corrs[i, j], (0.8, 0.2), xycoords='axes fraction', ha='center', va='center', size=textSize)\n",
        "    plt.suptitle('Scatter and Density Plot')\n",
        "    plt.show()"
      ],
      "metadata": {
        "id": "aGFnXYaBwu3-"
      },
      "execution_count": null,
      "outputs": []
    },
    {
      "cell_type": "markdown",
      "source": [
        "https://www.kaggle.com/code/sparky42/starter-california-housing-prices-371617f9-6?scriptVersionId=18714461&cellId=9"
      ],
      "metadata": {
        "id": "1UTzPOrbwx0n"
      }
    }
  ]
}